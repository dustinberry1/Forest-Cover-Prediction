{
 "cells": [
  {
   "cell_type": "markdown",
   "metadata": {},
   "source": [
    "# Predicting the type of forest covering based on soil type and elevation."
   ]
  },
  {
   "cell_type": "code",
   "execution_count": 1,
   "metadata": {},
   "outputs": [],
   "source": [
    "import numpy as np\n",
    "import pandas as pd              \n",
    "import matplotlib.pyplot as plt\n",
    "from sklearn.model_selection import train_test_split\n",
    "from sklearn.linear_model import LogisticRegression\n",
    "from sklearn.preprocessing import OneHotEncoder\n",
    "from sklearn.metrics import confusion_matrix, classification_report\n",
    "from sklearn.tree import DecisionTreeClassifier\n",
    "from sklearn.ensemble import RandomForestClassifier"
   ]
  },
  {
   "cell_type": "markdown",
   "metadata": {},
   "source": [
    "## Part 1: Loading the Dataset; Preliminary Analysis\n",
    "This section will be used to load the datset and explore its structure."
   ]
  },
  {
   "cell_type": "code",
   "execution_count": 2,
   "metadata": {
    "scrolled": true
   },
   "outputs": [
    {
     "data": {
      "text/html": [
       "<div>\n",
       "<style scoped>\n",
       "    .dataframe tbody tr th:only-of-type {\n",
       "        vertical-align: middle;\n",
       "    }\n",
       "\n",
       "    .dataframe tbody tr th {\n",
       "        vertical-align: top;\n",
       "    }\n",
       "\n",
       "    .dataframe thead th {\n",
       "        text-align: right;\n",
       "    }\n",
       "</style>\n",
       "<table border=\"1\" class=\"dataframe\">\n",
       "  <thead>\n",
       "    <tr style=\"text-align: right;\">\n",
       "      <th></th>\n",
       "      <th>Elevation</th>\n",
       "      <th>Aspect</th>\n",
       "      <th>Slope</th>\n",
       "      <th>Horizontal_Distance_To_Hydrology</th>\n",
       "      <th>Vertical_Distance_To_Hydrology</th>\n",
       "      <th>Horizontal_Distance_To_Roadways</th>\n",
       "      <th>Hillshade_9am</th>\n",
       "      <th>Hillshade_Noon</th>\n",
       "      <th>Hillshade_3pm</th>\n",
       "      <th>Horizontal_Distance_To_Fire_Points</th>\n",
       "      <th>Wilderness_Area</th>\n",
       "      <th>Soil_Type</th>\n",
       "      <th>Cover_Type</th>\n",
       "    </tr>\n",
       "  </thead>\n",
       "  <tbody>\n",
       "    <tr>\n",
       "      <th>0</th>\n",
       "      <td>2596</td>\n",
       "      <td>51</td>\n",
       "      <td>3</td>\n",
       "      <td>258</td>\n",
       "      <td>0</td>\n",
       "      <td>510</td>\n",
       "      <td>221</td>\n",
       "      <td>232</td>\n",
       "      <td>148</td>\n",
       "      <td>6279</td>\n",
       "      <td>Rawah</td>\n",
       "      <td>29</td>\n",
       "      <td>5</td>\n",
       "    </tr>\n",
       "    <tr>\n",
       "      <th>1</th>\n",
       "      <td>2590</td>\n",
       "      <td>56</td>\n",
       "      <td>2</td>\n",
       "      <td>212</td>\n",
       "      <td>-6</td>\n",
       "      <td>390</td>\n",
       "      <td>220</td>\n",
       "      <td>235</td>\n",
       "      <td>151</td>\n",
       "      <td>6225</td>\n",
       "      <td>Rawah</td>\n",
       "      <td>29</td>\n",
       "      <td>5</td>\n",
       "    </tr>\n",
       "    <tr>\n",
       "      <th>2</th>\n",
       "      <td>2804</td>\n",
       "      <td>139</td>\n",
       "      <td>9</td>\n",
       "      <td>268</td>\n",
       "      <td>65</td>\n",
       "      <td>3180</td>\n",
       "      <td>234</td>\n",
       "      <td>238</td>\n",
       "      <td>135</td>\n",
       "      <td>6121</td>\n",
       "      <td>Rawah</td>\n",
       "      <td>12</td>\n",
       "      <td>2</td>\n",
       "    </tr>\n",
       "    <tr>\n",
       "      <th>3</th>\n",
       "      <td>2785</td>\n",
       "      <td>155</td>\n",
       "      <td>18</td>\n",
       "      <td>242</td>\n",
       "      <td>118</td>\n",
       "      <td>3090</td>\n",
       "      <td>238</td>\n",
       "      <td>238</td>\n",
       "      <td>122</td>\n",
       "      <td>6211</td>\n",
       "      <td>Rawah</td>\n",
       "      <td>30</td>\n",
       "      <td>2</td>\n",
       "    </tr>\n",
       "    <tr>\n",
       "      <th>4</th>\n",
       "      <td>2595</td>\n",
       "      <td>45</td>\n",
       "      <td>2</td>\n",
       "      <td>153</td>\n",
       "      <td>-1</td>\n",
       "      <td>391</td>\n",
       "      <td>220</td>\n",
       "      <td>234</td>\n",
       "      <td>150</td>\n",
       "      <td>6172</td>\n",
       "      <td>Rawah</td>\n",
       "      <td>29</td>\n",
       "      <td>5</td>\n",
       "    </tr>\n",
       "  </tbody>\n",
       "</table>\n",
       "</div>"
      ],
      "text/plain": [
       "   Elevation  Aspect  Slope  Horizontal_Distance_To_Hydrology  \\\n",
       "0       2596      51      3                               258   \n",
       "1       2590      56      2                               212   \n",
       "2       2804     139      9                               268   \n",
       "3       2785     155     18                               242   \n",
       "4       2595      45      2                               153   \n",
       "\n",
       "   Vertical_Distance_To_Hydrology  Horizontal_Distance_To_Roadways  \\\n",
       "0                               0                              510   \n",
       "1                              -6                              390   \n",
       "2                              65                             3180   \n",
       "3                             118                             3090   \n",
       "4                              -1                              391   \n",
       "\n",
       "   Hillshade_9am  Hillshade_Noon  Hillshade_3pm  \\\n",
       "0            221             232            148   \n",
       "1            220             235            151   \n",
       "2            234             238            135   \n",
       "3            238             238            122   \n",
       "4            220             234            150   \n",
       "\n",
       "   Horizontal_Distance_To_Fire_Points Wilderness_Area  Soil_Type  Cover_Type  \n",
       "0                                6279           Rawah         29           5  \n",
       "1                                6225           Rawah         29           5  \n",
       "2                                6121           Rawah         12           2  \n",
       "3                                6211           Rawah         30           2  \n",
       "4                                6172           Rawah         29           5  "
      ]
     },
     "execution_count": 2,
     "metadata": {},
     "output_type": "execute_result"
    }
   ],
   "source": [
    "fc = pd.read_csv('forest_cover.txt', sep='\\t')\n",
    "fc.head()"
   ]
  },
  {
   "cell_type": "markdown",
   "metadata": {},
   "source": [
    "Here we will determine the size of the dataset.  We see that there are 15,120 rows and 13 columns."
   ]
  },
  {
   "cell_type": "code",
   "execution_count": 3,
   "metadata": {},
   "outputs": [
    {
     "data": {
      "text/plain": [
       "(15120, 13)"
      ]
     },
     "execution_count": 3,
     "metadata": {},
     "output_type": "execute_result"
    }
   ],
   "source": [
    "fc.shape"
   ]
  },
  {
   "cell_type": "markdown",
   "metadata": {},
   "source": [
    "This will show the distribution of cover types found in the dataset."
   ]
  },
  {
   "cell_type": "code",
   "execution_count": 4,
   "metadata": {},
   "outputs": [
    {
     "data": {
      "text/plain": [
       "1    2160\n",
       "2    2160\n",
       "3    2160\n",
       "4    2160\n",
       "5    2160\n",
       "6    2160\n",
       "7    2160\n",
       "Name: Cover_Type, dtype: int64"
      ]
     },
     "execution_count": 4,
     "metadata": {},
     "output_type": "execute_result"
    }
   ],
   "source": [
    "fc.Cover_Type.value_counts().sort_index()"
   ]
  },
  {
   "cell_type": "markdown",
   "metadata": {},
   "source": [
    "The following syntax will create a list of seven colors to correspond with the cover types for future visualizations."
   ]
  },
  {
   "cell_type": "code",
   "execution_count": 5,
   "metadata": {},
   "outputs": [],
   "source": [
    "palette = ['orchid', 'lightcoral', 'orange', 'gold', \n",
    "            'lightgreen', 'deepskyblue', 'cornflowerblue']"
   ]
  },
  {
   "cell_type": "markdown",
   "metadata": {},
   "source": [
    "## Part 2: Distribution of Cover Type by Wilderness Area\n",
    "This section will explore the relationship between cover types and wilderness areas.  We will start by determining the distribution of wilderness areas within the dataset."
   ]
  },
  {
   "cell_type": "code",
   "execution_count": 6,
   "metadata": {},
   "outputs": [
    {
     "data": {
      "text/plain": [
       "Cache la Poudre    4675\n",
       "Comanche Peak      6349\n",
       "Neota               499\n",
       "Rawah              3597\n",
       "Name: Wilderness_Area, dtype: int64"
      ]
     },
     "execution_count": 6,
     "metadata": {},
     "output_type": "execute_result"
    }
   ],
   "source": [
    "fc.Wilderness_Area.value_counts().sort_index()"
   ]
  },
  {
   "cell_type": "markdown",
   "metadata": {},
   "source": [
    "Here we will create a dataframe to determine how many regions of each cover type are in each of the four wilderness areas."
   ]
  },
  {
   "cell_type": "code",
   "execution_count": 7,
   "metadata": {},
   "outputs": [
    {
     "data": {
      "text/html": [
       "<div>\n",
       "<style scoped>\n",
       "    .dataframe tbody tr th:only-of-type {\n",
       "        vertical-align: middle;\n",
       "    }\n",
       "\n",
       "    .dataframe tbody tr th {\n",
       "        vertical-align: top;\n",
       "    }\n",
       "\n",
       "    .dataframe thead th {\n",
       "        text-align: right;\n",
       "    }\n",
       "</style>\n",
       "<table border=\"1\" class=\"dataframe\">\n",
       "  <thead>\n",
       "    <tr style=\"text-align: right;\">\n",
       "      <th>Wilderness_Area</th>\n",
       "      <th>Cache la Poudre</th>\n",
       "      <th>Comanche Peak</th>\n",
       "      <th>Neota</th>\n",
       "      <th>Rawah</th>\n",
       "    </tr>\n",
       "    <tr>\n",
       "      <th>Cover_Type</th>\n",
       "      <th></th>\n",
       "      <th></th>\n",
       "      <th></th>\n",
       "      <th></th>\n",
       "    </tr>\n",
       "  </thead>\n",
       "  <tbody>\n",
       "    <tr>\n",
       "      <th>1</th>\n",
       "      <td>0</td>\n",
       "      <td>917</td>\n",
       "      <td>181</td>\n",
       "      <td>1062</td>\n",
       "    </tr>\n",
       "    <tr>\n",
       "      <th>2</th>\n",
       "      <td>20</td>\n",
       "      <td>940</td>\n",
       "      <td>66</td>\n",
       "      <td>1134</td>\n",
       "    </tr>\n",
       "    <tr>\n",
       "      <th>3</th>\n",
       "      <td>1297</td>\n",
       "      <td>863</td>\n",
       "      <td>0</td>\n",
       "      <td>0</td>\n",
       "    </tr>\n",
       "    <tr>\n",
       "      <th>4</th>\n",
       "      <td>2160</td>\n",
       "      <td>0</td>\n",
       "      <td>0</td>\n",
       "      <td>0</td>\n",
       "    </tr>\n",
       "    <tr>\n",
       "      <th>5</th>\n",
       "      <td>0</td>\n",
       "      <td>1304</td>\n",
       "      <td>0</td>\n",
       "      <td>856</td>\n",
       "    </tr>\n",
       "    <tr>\n",
       "      <th>6</th>\n",
       "      <td>1198</td>\n",
       "      <td>962</td>\n",
       "      <td>0</td>\n",
       "      <td>0</td>\n",
       "    </tr>\n",
       "    <tr>\n",
       "      <th>7</th>\n",
       "      <td>0</td>\n",
       "      <td>1363</td>\n",
       "      <td>252</td>\n",
       "      <td>545</td>\n",
       "    </tr>\n",
       "  </tbody>\n",
       "</table>\n",
       "</div>"
      ],
      "text/plain": [
       "Wilderness_Area  Cache la Poudre  Comanche Peak  Neota  Rawah\n",
       "Cover_Type                                                   \n",
       "1                              0            917    181   1062\n",
       "2                             20            940     66   1134\n",
       "3                           1297            863      0      0\n",
       "4                           2160              0      0      0\n",
       "5                              0           1304      0    856\n",
       "6                           1198            962      0      0\n",
       "7                              0           1363    252    545"
      ]
     },
     "execution_count": 7,
     "metadata": {},
     "output_type": "execute_result"
    }
   ],
   "source": [
    "ct_by_wa = pd.crosstab(index=fc['Cover_Type'], columns=fc['Wilderness_Area'])\n",
    "ct_by_wa"
   ]
  },
  {
   "cell_type": "markdown",
   "metadata": {},
   "source": [
    "The next section will visually represent the information in the ct_by_wa dataframe."
   ]
  },
  {
   "cell_type": "code",
   "execution_count": 8,
   "metadata": {
    "scrolled": true
   },
   "outputs": [
    {
     "data": {
      "image/png": "[encoded data removed]",
      "text/plain": [
       "<Figure size 576x288 with 1 Axes>"
      ]
     },
     "metadata": {
      "needs_background": "light"
     },
     "output_type": "display_data"
    }
   ],
   "source": [
    "ct_by_wa_props = np.divide(ct_by_wa, np.sum(ct_by_wa, axis = 0))\n",
    "x = sorted(np.unique(fc.Wilderness_Area))\n",
    "bb = [0]*(len(x))\n",
    "idx = 0\n",
    "plt.figure(figsize=[8,4])\n",
    "\n",
    "for i, row in ct_by_wa_props.iterrows():\n",
    "    plt.bar(x, row, color=palette[idx], bottom=bb, \n",
    "            label=i,edgecolor='black')\n",
    "    bb += row\n",
    "    idx += 1\n",
    "    \n",
    "plt.title('Distribution of Cover Type by Wilderness Area', fontsize=14)  \n",
    "plt.xlabel('Wilderness Area')\n",
    "plt.ylabel('Proportion')\n",
    "plt.legend(bbox_to_anchor=(1,1), title='Cover Type')\n",
    "plt.show()"
   ]
  },
  {
   "cell_type": "markdown",
   "metadata": {},
   "source": [
    "## Part 3: Distribution of Cover Type by Soil Type\n",
    "This section shows how to create a dataframe to determine the number of regions of each cover type there are for each of the 40 soil types."
   ]
  },
  {
   "cell_type": "code",
   "execution_count": 9,
   "metadata": {},
   "outputs": [
    {
     "data": {
      "text/html": [
       "<div>\n",
       "<style scoped>\n",
       "    .dataframe tbody tr th:only-of-type {\n",
       "        vertical-align: middle;\n",
       "    }\n",
       "\n",
       "    .dataframe tbody tr th {\n",
       "        vertical-align: top;\n",
       "    }\n",
       "\n",
       "    .dataframe thead th {\n",
       "        text-align: right;\n",
       "    }\n",
       "</style>\n",
       "<table border=\"1\" class=\"dataframe\">\n",
       "  <thead>\n",
       "    <tr style=\"text-align: right;\">\n",
       "      <th>Soil_Type</th>\n",
       "      <th>1</th>\n",
       "      <th>2</th>\n",
       "      <th>3</th>\n",
       "      <th>4</th>\n",
       "      <th>5</th>\n",
       "      <th>6</th>\n",
       "      <th>8</th>\n",
       "      <th>9</th>\n",
       "      <th>10</th>\n",
       "      <th>11</th>\n",
       "      <th>...</th>\n",
       "      <th>31</th>\n",
       "      <th>32</th>\n",
       "      <th>33</th>\n",
       "      <th>34</th>\n",
       "      <th>35</th>\n",
       "      <th>36</th>\n",
       "      <th>37</th>\n",
       "      <th>38</th>\n",
       "      <th>39</th>\n",
       "      <th>40</th>\n",
       "    </tr>\n",
       "    <tr>\n",
       "      <th>Cover_Type</th>\n",
       "      <th></th>\n",
       "      <th></th>\n",
       "      <th></th>\n",
       "      <th></th>\n",
       "      <th></th>\n",
       "      <th></th>\n",
       "      <th></th>\n",
       "      <th></th>\n",
       "      <th></th>\n",
       "      <th></th>\n",
       "      <th></th>\n",
       "      <th></th>\n",
       "      <th></th>\n",
       "      <th></th>\n",
       "      <th></th>\n",
       "      <th></th>\n",
       "      <th></th>\n",
       "      <th></th>\n",
       "      <th></th>\n",
       "      <th></th>\n",
       "      <th></th>\n",
       "    </tr>\n",
       "  </thead>\n",
       "  <tbody>\n",
       "    <tr>\n",
       "      <th>1</th>\n",
       "      <td>0</td>\n",
       "      <td>0</td>\n",
       "      <td>0</td>\n",
       "      <td>5</td>\n",
       "      <td>0</td>\n",
       "      <td>0</td>\n",
       "      <td>0</td>\n",
       "      <td>1</td>\n",
       "      <td>9</td>\n",
       "      <td>5</td>\n",
       "      <td>...</td>\n",
       "      <td>114</td>\n",
       "      <td>230</td>\n",
       "      <td>184</td>\n",
       "      <td>0</td>\n",
       "      <td>3</td>\n",
       "      <td>0</td>\n",
       "      <td>0</td>\n",
       "      <td>80</td>\n",
       "      <td>79</td>\n",
       "      <td>49</td>\n",
       "    </tr>\n",
       "    <tr>\n",
       "      <th>2</th>\n",
       "      <td>0</td>\n",
       "      <td>3</td>\n",
       "      <td>12</td>\n",
       "      <td>20</td>\n",
       "      <td>0</td>\n",
       "      <td>7</td>\n",
       "      <td>1</td>\n",
       "      <td>9</td>\n",
       "      <td>81</td>\n",
       "      <td>67</td>\n",
       "      <td>...</td>\n",
       "      <td>97</td>\n",
       "      <td>255</td>\n",
       "      <td>184</td>\n",
       "      <td>12</td>\n",
       "      <td>1</td>\n",
       "      <td>2</td>\n",
       "      <td>0</td>\n",
       "      <td>7</td>\n",
       "      <td>3</td>\n",
       "      <td>3</td>\n",
       "    </tr>\n",
       "    <tr>\n",
       "      <th>3</th>\n",
       "      <td>121</td>\n",
       "      <td>283</td>\n",
       "      <td>133</td>\n",
       "      <td>462</td>\n",
       "      <td>55</td>\n",
       "      <td>248</td>\n",
       "      <td>0</td>\n",
       "      <td>0</td>\n",
       "      <td>717</td>\n",
       "      <td>89</td>\n",
       "      <td>...</td>\n",
       "      <td>0</td>\n",
       "      <td>5</td>\n",
       "      <td>0</td>\n",
       "      <td>0</td>\n",
       "      <td>0</td>\n",
       "      <td>0</td>\n",
       "      <td>0</td>\n",
       "      <td>0</td>\n",
       "      <td>0</td>\n",
       "      <td>0</td>\n",
       "    </tr>\n",
       "    <tr>\n",
       "      <th>4</th>\n",
       "      <td>139</td>\n",
       "      <td>94</td>\n",
       "      <td>799</td>\n",
       "      <td>133</td>\n",
       "      <td>39</td>\n",
       "      <td>244</td>\n",
       "      <td>0</td>\n",
       "      <td>0</td>\n",
       "      <td>170</td>\n",
       "      <td>24</td>\n",
       "      <td>...</td>\n",
       "      <td>0</td>\n",
       "      <td>0</td>\n",
       "      <td>0</td>\n",
       "      <td>0</td>\n",
       "      <td>0</td>\n",
       "      <td>0</td>\n",
       "      <td>0</td>\n",
       "      <td>0</td>\n",
       "      <td>0</td>\n",
       "      <td>0</td>\n",
       "    </tr>\n",
       "    <tr>\n",
       "      <th>5</th>\n",
       "      <td>0</td>\n",
       "      <td>61</td>\n",
       "      <td>0</td>\n",
       "      <td>129</td>\n",
       "      <td>0</td>\n",
       "      <td>0</td>\n",
       "      <td>0</td>\n",
       "      <td>0</td>\n",
       "      <td>64</td>\n",
       "      <td>154</td>\n",
       "      <td>...</td>\n",
       "      <td>87</td>\n",
       "      <td>100</td>\n",
       "      <td>115</td>\n",
       "      <td>4</td>\n",
       "      <td>0</td>\n",
       "      <td>0</td>\n",
       "      <td>0</td>\n",
       "      <td>0</td>\n",
       "      <td>0</td>\n",
       "      <td>0</td>\n",
       "    </tr>\n",
       "    <tr>\n",
       "      <th>6</th>\n",
       "      <td>95</td>\n",
       "      <td>182</td>\n",
       "      <td>18</td>\n",
       "      <td>87</td>\n",
       "      <td>71</td>\n",
       "      <td>151</td>\n",
       "      <td>0</td>\n",
       "      <td>0</td>\n",
       "      <td>1101</td>\n",
       "      <td>67</td>\n",
       "      <td>...</td>\n",
       "      <td>7</td>\n",
       "      <td>30</td>\n",
       "      <td>66</td>\n",
       "      <td>2</td>\n",
       "      <td>0</td>\n",
       "      <td>0</td>\n",
       "      <td>0</td>\n",
       "      <td>0</td>\n",
       "      <td>0</td>\n",
       "      <td>0</td>\n",
       "    </tr>\n",
       "    <tr>\n",
       "      <th>7</th>\n",
       "      <td>0</td>\n",
       "      <td>0</td>\n",
       "      <td>0</td>\n",
       "      <td>7</td>\n",
       "      <td>0</td>\n",
       "      <td>0</td>\n",
       "      <td>0</td>\n",
       "      <td>0</td>\n",
       "      <td>0</td>\n",
       "      <td>0</td>\n",
       "      <td>...</td>\n",
       "      <td>27</td>\n",
       "      <td>70</td>\n",
       "      <td>67</td>\n",
       "      <td>4</td>\n",
       "      <td>98</td>\n",
       "      <td>8</td>\n",
       "      <td>34</td>\n",
       "      <td>641</td>\n",
       "      <td>575</td>\n",
       "      <td>407</td>\n",
       "    </tr>\n",
       "  </tbody>\n",
       "</table>\n",
       "<p>7 rows × 38 columns</p>\n",
       "</div>"
      ],
      "text/plain": [
       "Soil_Type    1    2    3    4   5    6   8   9     10   11  ...   31   32  \\\n",
       "Cover_Type                                                  ...             \n",
       "1             0    0    0    5   0    0   0   1     9    5  ...  114  230   \n",
       "2             0    3   12   20   0    7   1   9    81   67  ...   97  255   \n",
       "3           121  283  133  462  55  248   0   0   717   89  ...    0    5   \n",
       "4           139   94  799  133  39  244   0   0   170   24  ...    0    0   \n",
       "5             0   61    0  129   0    0   0   0    64  154  ...   87  100   \n",
       "6            95  182   18   87  71  151   0   0  1101   67  ...    7   30   \n",
       "7             0    0    0    7   0    0   0   0     0    0  ...   27   70   \n",
       "\n",
       "Soil_Type    33  34  35  36  37   38   39   40  \n",
       "Cover_Type                                      \n",
       "1           184   0   3   0   0   80   79   49  \n",
       "2           184  12   1   2   0    7    3    3  \n",
       "3             0   0   0   0   0    0    0    0  \n",
       "4             0   0   0   0   0    0    0    0  \n",
       "5           115   4   0   0   0    0    0    0  \n",
       "6            66   2   0   0   0    0    0    0  \n",
       "7            67   4  98   8  34  641  575  407  \n",
       "\n",
       "[7 rows x 38 columns]"
      ]
     },
     "execution_count": 9,
     "metadata": {},
     "output_type": "execute_result"
    }
   ],
   "source": [
    "ct_by_st = pd.crosstab(index=fc['Cover_Type'], columns=fc['Soil_Type'])\n",
    "ct_by_st"
   ]
  },
  {
   "cell_type": "markdown",
   "metadata": {},
   "source": [
    "The next section will visually represent the information in the ct_by_st dataframe."
   ]
  },
  {
   "cell_type": "code",
   "execution_count": 10,
   "metadata": {},
   "outputs": [
    {
     "data": {
      "image/png": "[encoded data removed]",
      "text/plain": [
       "<Figure size 576x288 with 1 Axes>"
      ]
     },
     "metadata": {
      "needs_background": "light"
     },
     "output_type": "display_data"
    }
   ],
   "source": [
    "ct_by_st_props = np.divide(ct_by_st, np.sum(ct_by_st, axis = 0))\n",
    "x2 = sorted(np.unique(fc.Soil_Type))\n",
    "bb = [0]*(len(x2))\n",
    "idx = 0\n",
    "plt.figure(figsize=[8,4])\n",
    "\n",
    "for i, row in ct_by_st_props.iterrows():\n",
    "    plt.bar(x2, row, color=palette[idx], bottom=bb, \n",
    "            label=i,edgecolor='black')\n",
    "    bb += row\n",
    "    idx += 1\n",
    "    \n",
    "plt.title('Distribution of Cover Type by Soil Type', fontsize=14)  \n",
    "plt.xlabel('Soil Type')\n",
    "plt.ylabel('Proportion')\n",
    "plt.legend(bbox_to_anchor=(1,1), title='Cover Type')\n",
    "plt.show()"
   ]
  },
  {
   "cell_type": "markdown",
   "metadata": {},
   "source": [
    "## Part 4: Distribution of Elevation by Cover Type\n",
    "We will start by calculating the average elevation for each of the seven cover types."
   ]
  },
  {
   "cell_type": "code",
   "execution_count": 11,
   "metadata": {},
   "outputs": [
    {
     "data": {
      "text/html": [
       "<div>\n",
       "<style scoped>\n",
       "    .dataframe tbody tr th:only-of-type {\n",
       "        vertical-align: middle;\n",
       "    }\n",
       "\n",
       "    .dataframe tbody tr th {\n",
       "        vertical-align: top;\n",
       "    }\n",
       "\n",
       "    .dataframe thead th {\n",
       "        text-align: right;\n",
       "    }\n",
       "</style>\n",
       "<table border=\"1\" class=\"dataframe\">\n",
       "  <thead>\n",
       "    <tr style=\"text-align: right;\">\n",
       "      <th></th>\n",
       "      <th>Elevation</th>\n",
       "    </tr>\n",
       "    <tr>\n",
       "      <th>Cover_Type</th>\n",
       "      <th></th>\n",
       "    </tr>\n",
       "  </thead>\n",
       "  <tbody>\n",
       "    <tr>\n",
       "      <th>1</th>\n",
       "      <td>3128.025926</td>\n",
       "    </tr>\n",
       "    <tr>\n",
       "      <th>2</th>\n",
       "      <td>2922.540278</td>\n",
       "    </tr>\n",
       "    <tr>\n",
       "      <th>3</th>\n",
       "      <td>2398.423148</td>\n",
       "    </tr>\n",
       "    <tr>\n",
       "      <th>4</th>\n",
       "      <td>2223.420370</td>\n",
       "    </tr>\n",
       "    <tr>\n",
       "      <th>5</th>\n",
       "      <td>2786.801389</td>\n",
       "    </tr>\n",
       "    <tr>\n",
       "      <th>6</th>\n",
       "      <td>2423.276852</td>\n",
       "    </tr>\n",
       "    <tr>\n",
       "      <th>7</th>\n",
       "      <td>3362.769907</td>\n",
       "    </tr>\n",
       "  </tbody>\n",
       "</table>\n",
       "</div>"
      ],
      "text/plain": [
       "              Elevation\n",
       "Cover_Type             \n",
       "1           3128.025926\n",
       "2           2922.540278\n",
       "3           2398.423148\n",
       "4           2223.420370\n",
       "5           2786.801389\n",
       "6           2423.276852\n",
       "7           3362.769907"
      ]
     },
     "execution_count": 11,
     "metadata": {},
     "output_type": "execute_result"
    }
   ],
   "source": [
    "fc.loc[:,['Elevation', 'Cover_Type']].groupby('Cover_Type').mean()"
   ]
  },
  {
   "cell_type": "markdown",
   "metadata": {},
   "source": [
    "Here we will create histograms to visually explore the distributions of elevation for each of the seven cover types."
   ]
  },
  {
   "cell_type": "code",
   "execution_count": 12,
   "metadata": {},
   "outputs": [
    {
     "ename": "IndexError",
     "evalue": "list index out of range",
     "output_type": "error",
     "traceback": [
      "\u001b[1;31m---------------------------------------------------------------------------\u001b[0m",
      "\u001b[1;31mIndexError\u001b[0m                                Traceback (most recent call last)",
      "\u001b[1;32m<ipython-input-12-264d6ca205c5>\u001b[0m in \u001b[0;36m<module>\u001b[1;34m\u001b[0m\n\u001b[0;32m      9\u001b[0m \u001b[1;32mfor\u001b[0m \u001b[0mi\u001b[0m \u001b[1;32min\u001b[0m \u001b[0mrange\u001b[0m\u001b[1;33m(\u001b[0m\u001b[1;36m0\u001b[0m\u001b[1;33m,\u001b[0m\u001b[0mlen\u001b[0m\u001b[1;33m(\u001b[0m\u001b[0mfc\u001b[0m\u001b[1;33m.\u001b[0m\u001b[0mElevation\u001b[0m\u001b[1;33m)\u001b[0m\u001b[1;33m)\u001b[0m\u001b[1;33m:\u001b[0m\u001b[1;33m\u001b[0m\u001b[1;33m\u001b[0m\u001b[0m\n\u001b[0;32m     10\u001b[0m     \u001b[0mplt\u001b[0m\u001b[1;33m.\u001b[0m\u001b[0msubplot\u001b[0m\u001b[1;33m(\u001b[0m\u001b[1;36m2\u001b[0m\u001b[1;33m,\u001b[0m\u001b[1;36m4\u001b[0m\u001b[1;33m,\u001b[0m\u001b[0midx\u001b[0m\u001b[1;33m+\u001b[0m\u001b[1;36m1\u001b[0m\u001b[1;33m)\u001b[0m\u001b[1;33m\u001b[0m\u001b[1;33m\u001b[0m\u001b[0m\n\u001b[1;32m---> 11\u001b[1;33m     \u001b[0mmask\u001b[0m \u001b[1;33m=\u001b[0m \u001b[0mfc\u001b[0m\u001b[1;33m[\u001b[0m\u001b[0mfc\u001b[0m\u001b[1;33m.\u001b[0m\u001b[0mCover_Type\u001b[0m \u001b[1;33m==\u001b[0m \u001b[0mCover\u001b[0m\u001b[1;33m[\u001b[0m\u001b[0midx\u001b[0m\u001b[1;33m]\u001b[0m\u001b[1;33m]\u001b[0m\u001b[1;33m\u001b[0m\u001b[1;33m\u001b[0m\u001b[0m\n\u001b[0m\u001b[0;32m     12\u001b[0m     \u001b[0mplt\u001b[0m\u001b[1;33m.\u001b[0m\u001b[0mhist\u001b[0m\u001b[1;33m(\u001b[0m\u001b[0mmask\u001b[0m\u001b[1;33m.\u001b[0m\u001b[0mElevation\u001b[0m\u001b[1;33m,\u001b[0m  \u001b[0mbins\u001b[0m\u001b[1;33m=\u001b[0m\u001b[0mnp\u001b[0m\u001b[1;33m.\u001b[0m\u001b[0marange\u001b[0m\u001b[1;33m(\u001b[0m\u001b[1;36m1800\u001b[0m\u001b[1;33m,\u001b[0m \u001b[1;36m4050\u001b[0m\u001b[1;33m,\u001b[0m \u001b[1;36m50\u001b[0m\u001b[1;33m)\u001b[0m \u001b[1;33m,\u001b[0m \u001b[0mcolor\u001b[0m \u001b[1;33m=\u001b[0m \u001b[0mpalette\u001b[0m\u001b[1;33m[\u001b[0m\u001b[0midx\u001b[0m\u001b[1;33m]\u001b[0m\u001b[1;33m)\u001b[0m\u001b[1;33m\u001b[0m\u001b[1;33m\u001b[0m\u001b[0m\n\u001b[0;32m     13\u001b[0m     \u001b[0mplt\u001b[0m\u001b[1;33m.\u001b[0m\u001b[0mxlims\u001b[0m\u001b[1;33m=\u001b[0m  \u001b[1;33m[\u001b[0m\u001b[1;36m1800\u001b[0m\u001b[1;33m,\u001b[0m\u001b[1;36m4000\u001b[0m\u001b[1;33m]\u001b[0m\u001b[1;33m\u001b[0m\u001b[1;33m\u001b[0m\u001b[0m\n",
      "\u001b[1;31mIndexError\u001b[0m: list index out of range"
     ]
    },
    {
     "data": {
      "image/png": "[encoded data removed]",
      "text/plain": [
       "<Figure size 432x288 with 8 Axes>"
      ]
     },
     "metadata": {
      "needs_background": "light"
     },
     "output_type": "display_data"
    }
   ],
   "source": [
    "#keeping for reference, another way to do this one\n",
    "\n",
    "\n",
    "idx = 0\n",
    "\n",
    "Cover = sorted(pd.unique(fc.Cover_Type))\n",
    "\n",
    "plt.Figure(figsize=[12,6])\n",
    "for i in range(0,len(fc.Elevation)):\n",
    "    plt.subplot(2,4,idx+1)\n",
    "    mask = fc[fc.Cover_Type == Cover[idx]]\n",
    "    plt.hist(mask.Elevation,  bins=np.arange(1800, 4050, 50) , color = palette[idx])\n",
    "    plt.xlims=  [1800,4000]\n",
    "    plt.ylims =  [0,600]\n",
    "    plt.xlabel(\"Count\")\n",
    "    plt.ylabel('Elevation')\n",
    "    plt.title('Cover Type ' + str(Cover[idx]) )\n",
    "    idx += 1\n",
    "    plt.tight_layout()\n",
    "plt.show()"
   ]
  },
  {
   "cell_type": "code",
   "execution_count": null,
   "metadata": {},
   "outputs": [],
   "source": [
    "x3 = sorted(np.unique(fc.Cover_Type))\n",
    "\n",
    "plt.figure(figsize=[12,6])\n",
    "for i in range(0, len(x3)):\n",
    "    \n",
    "    plt.subplot(2,4,i+1)\n",
    "    \n",
    "    current_cover = x3[i]\n",
    "    temp_elevation = [fc.Elevation[i] for i in range(len(fc.Elevation)) \n",
    "                      if fc.Cover_Type[i] == current_cover]\n",
    "    \n",
    "    plt.hist(temp_elevation, bins=np.arange(1800, 4050, 50), \n",
    "                color=palette[i], edgecolor='k')\n",
    "\n",
    "    plt.xlim([1800, 4000])\n",
    "    plt.ylim([0, 600])\n",
    "    plt.xlabel('Elevation')\n",
    "    plt.ylabel('Count')\n",
    "    plt.title('Cover Type '+str(x3[i]))\n",
    "\n",
    "plt.tight_layout()\n",
    "plt.show()"
   ]
  },
  {
   "cell_type": "markdown",
   "metadata": {},
   "source": [
    "## Part 5: Creating Training, Validation, and Test Sets\n",
    "We will start by separating the categorical fewtures, the numerical features, and the labels."
   ]
  },
  {
   "cell_type": "code",
   "execution_count": null,
   "metadata": {},
   "outputs": [],
   "source": [
    "X_num = fc.iloc[:,0:10].values\n",
    "X_cat = fc.iloc[:,10:12].values\n",
    "y = fc.iloc[:,-1].values\n",
    "\n",
    "\n",
    "print('Numerical Feature Array Shape:  ', X_num.shape)\n",
    "print('Categorical Feature Array Shape:', X_cat.shape)\n",
    "print('Label Array Shape:              ', y.shape)"
   ]
  },
  {
   "cell_type": "markdown",
   "metadata": {},
   "source": [
    "Here we will encode the categorical variables using one-hot encoding."
   ]
  },
  {
   "cell_type": "code",
   "execution_count": null,
   "metadata": {},
   "outputs": [],
   "source": [
    "encoder = OneHotEncoder(sparse=False)\n",
    "encoder.fit(X_cat)\n",
    "X_enc = encoder.transform(X_cat)\n",
    "\n",
    "print('Encoded feature Array Shape:', X_enc.shape)"
   ]
  },
  {
   "cell_type": "markdown",
   "metadata": {},
   "source": [
    "Now we will combine the numerical features with the encoded features."
   ]
  },
  {
   "cell_type": "code",
   "execution_count": null,
   "metadata": {},
   "outputs": [],
   "source": [
    "X = np.hstack((X_num, X_enc))\n",
    "print('Feature Array Shape:', X.shape)"
   ]
  },
  {
   "cell_type": "markdown",
   "metadata": {},
   "source": [
    "The following section will split the data into training, validation, and test sets using a 70/15/15 split."
   ]
  },
  {
   "cell_type": "code",
   "execution_count": null,
   "metadata": {},
   "outputs": [],
   "source": [
    "X_train, X_hold, y_train, y_hold =\\\n",
    "    train_test_split(X, y, test_size=0.3, random_state=1, \n",
    "                     stratify=y)\n",
    "X_valid, X_test, y_valid, y_test =\\\n",
    "    train_test_split(X_hold, y_hold, test_size=0.5, \n",
    "                     random_state=1, stratify=y_hold)\n",
    "\n",
    "print('Training Features Shape:  ', X_train.shape)\n",
    "print('Validation Features Shape:', X_valid.shape)\n",
    "print('Test Features Shape:      ', X_test.shape)"
   ]
  },
  {
   "cell_type": "markdown",
   "metadata": {},
   "source": [
    "## Part 6: Logistic Regression Model\n",
    "This section will show the results of a logistic regression model to test for predictions."
   ]
  },
  {
   "cell_type": "code",
   "execution_count": null,
   "metadata": {},
   "outputs": [],
   "source": [
    "lr_mod = LogisticRegression(solver='lbfgs', multi_class='multinomial', \n",
    "                            penalty='none', max_iter=1000)\n",
    "lr_mod.fit(X_train, y_train)\n",
    "\n",
    "train_acc = lr_mod.score(X_train, y_train)\n",
    "valid_acc = lr_mod.score(X_valid, y_valid)\n",
    "\n",
    "print('Training Accuracy:  ', round(train_acc,4))\n",
    "print('Validation Accuracy:', round(valid_acc,4))"
   ]
  },
  {
   "cell_type": "markdown",
   "metadata": {},
   "source": [
    "## Part 7: Decision Tree Models\n",
    "This section will show the results of a decision tree model to test for predictions."
   ]
  },
  {
   "cell_type": "code",
   "execution_count": null,
   "metadata": {},
   "outputs": [],
   "source": [
    "dt_train_acc = []\n",
    "dt_valid_acc = []\n",
    "\n",
    "depth_range = range(2,31)\n",
    "\n",
    "for d in depth_range:\n",
    "    np.random.seed(1)\n",
    "    temp_tree = DecisionTreeClassifier(max_depth=d)\n",
    "    temp_tree.fit(X_train, y_train)\n",
    "    dt_train_acc.append(temp_tree.score(X_train, y_train))\n",
    "    dt_valid_acc.append(temp_tree.score(X_valid, y_valid))\n",
    "    \n",
    "dt_idx = np.argmax(dt_valid_acc)\n",
    "dt_opt_depth = depth_range[dt_idx]\n",
    "\n",
    "tree = DecisionTreeClassifier(max_depth=dt_opt_depth, random_state=1)\n",
    "tree.fit(X_train, y_train)\n",
    "\n",
    "print('Optimal value of max_depth:           ', dt_opt_depth)\n",
    "print('Training Accuracy for Optimal Model:  ', round(tree.score(X_train, y_train),4))\n",
    "print('Validation Accuracy for Optimal Model:', round(tree.score(X_valid, y_valid),4))"
   ]
  },
  {
   "cell_type": "markdown",
   "metadata": {},
   "source": [
    "The following plot will show the training and validation curves as a function of max_depth."
   ]
  },
  {
   "cell_type": "code",
   "execution_count": null,
   "metadata": {},
   "outputs": [],
   "source": [
    "plt.figure(figsize=([9, 6]))\n",
    "plt.plot(depth_range, dt_train_acc, label='Training')\n",
    "plt.plot(depth_range, dt_valid_acc, label='Validation')\n",
    "plt.xlabel('Max Depth')\n",
    "plt.ylabel('Accuracy')\n",
    "plt.xticks(depth_range)\n",
    "plt.axvline(x=dt_opt_depth, ls='--', color='red') #added vertical line to show optimal tuning\n",
    "plt.legend()\n",
    "plt.show()"
   ]
  },
  {
   "cell_type": "markdown",
   "metadata": {},
   "source": [
    "## Part 8: Random Forest Models\n",
    "This section will show the results of a random forest model to test for predictions."
   ]
  },
  {
   "cell_type": "code",
   "execution_count": null,
   "metadata": {},
   "outputs": [],
   "source": [
    "rf_train_acc = []\n",
    "rf_valid_acc = []\n",
    "\n",
    "for d in depth_range:\n",
    "    np.random.seed(1)\n",
    "    temp_forest = RandomForestClassifier(n_estimators=100, max_depth=d)\n",
    "    temp_forest.fit(X_train, y_train)\n",
    "    rf_train_acc.append(temp_forest.score(X_train, y_train))\n",
    "    rf_valid_acc.append(temp_forest.score(X_valid, y_valid))\n",
    "    \n",
    "rf_idx = np.argmax(rf_valid_acc)\n",
    "rf_opt_depth = depth_range[rf_idx]\n",
    "\n",
    "forest = RandomForestClassifier(max_depth=rf_opt_depth, random_state=1)\n",
    "forest.fit(X_train, y_train)\n",
    "\n",
    "print('Optimal value of max_depth:           ', rf_opt_depth)\n",
    "print('Training Accuracy for Optimal Model:  ', round(forest.score(X_train, y_train),4))\n",
    "print('Validation Accuracy for Optimal Model:', round(forest.score(X_valid, y_valid),4))"
   ]
  },
  {
   "cell_type": "markdown",
   "metadata": {},
   "source": [
    "The following plot will show the training and validation curves as a function of max_depth."
   ]
  },
  {
   "cell_type": "code",
   "execution_count": null,
   "metadata": {},
   "outputs": [],
   "source": [
    "plt.figure(figsize=([9, 6]))\n",
    "plt.plot(depth_range, rf_train_acc, label='Training')\n",
    "plt.plot(depth_range, rf_valid_acc, label='Validation')\n",
    "plt.xlabel('Max Depth')\n",
    "plt.ylabel('Accuracy')\n",
    "plt.xticks(depth_range)\n",
    "plt.axvline(x=rf_opt_depth, ls='--', color='red') #added vertical line to show optimal tuning\n",
    "plt.legend()\n",
    "plt.show()"
   ]
  },
  {
   "cell_type": "markdown",
   "metadata": {},
   "source": [
    "## Part 9: Create and Evaluate Final Model\n",
    "The final model will be the random forest model due to it's high percentage of accuracy in the validation data set.  In part 8 we calculated that the optimal depth of the model will be 29 in order to maximize the accuracy of the model based on untrained data.  Given the randomness of this model we can allow the max_depth parameter to be set high without having to worry too much about overfitting."
   ]
  },
  {
   "cell_type": "code",
   "execution_count": null,
   "metadata": {},
   "outputs": [],
   "source": [
    "np.random.seed(1)\n",
    "final_model = RandomForestClassifier(max_depth=rf_opt_depth)\n",
    "final_model.fit(X_test, y_test)\n",
    "\n",
    "print('Training Accuracy for Final Model:  ', round(final_model.score(X_train, y_train),4))\n",
    "print('Validation Accuracy for Final Model:', round(final_model.score(X_valid, y_valid),4))\n",
    "print('Testing Accuracy for Final Model:   ', round(final_model.score(X_test, y_test),4))"
   ]
  },
  {
   "cell_type": "markdown",
   "metadata": {},
   "source": [
    "The following cell will create and display a confusion matrix detailing the models performance on the test set."
   ]
  },
  {
   "cell_type": "code",
   "execution_count": null,
   "metadata": {},
   "outputs": [],
   "source": [
    "test_pred = final_model.predict(X_test)\n",
    "\n",
    "cm = confusion_matrix(y_test, test_pred)\n",
    "\n",
    "cm_df = pd.DataFrame(cm).\\\n",
    "    rename(columns={0:'1', 1:'2', 2:'3', 3:'4', 4:'5', 5:'6', 6:'7', 7:'8'}, \n",
    "           index={0:'1', 1:'2', 2:'3', 3:'4', 4:'5', 5:'6', 6:'7', 7:'8'})\n",
    "cm_df"
   ]
  },
  {
   "cell_type": "markdown",
   "metadata": {},
   "source": [
    "We will now generate a classification report to provide further insight into the model's performance on the test set."
   ]
  },
  {
   "cell_type": "code",
   "execution_count": null,
   "metadata": {},
   "outputs": [],
   "source": [
    "print(classification_report(y_test, test_pred))"
   ]
  }
 ],
 "metadata": {
  "kernelspec": {
   "display_name": "Python 3 (ipykernel)",
   "language": "python",
   "name": "python3"
  },
  "language_info": {
   "codemirror_mode": {
    "name": "ipython",
    "version": 3
   },
   "file_extension": ".py",
   "mimetype": "text/x-python",
   "name": "python",
   "nbconvert_exporter": "python",
   "pygments_lexer": "ipython3",
   "version": "3.9.12"
  }
 },
 "nbformat": 4,
 "nbformat_minor": 4
}
